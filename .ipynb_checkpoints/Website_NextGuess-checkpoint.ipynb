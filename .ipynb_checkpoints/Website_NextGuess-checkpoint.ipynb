{
 "cells": [
  {
   "cell_type": "code",
   "execution_count": 1,
   "id": "7abeedee",
   "metadata": {},
   "outputs": [],
   "source": [
    "#Import Dependencies\n",
    "import pandas as pd\n",
    "\n",
    "#List for use later when checking letter matches\n",
    "letter_spacing = [\"L1\", \"L2\", \"L3\", \"L4\", \"L5\"]\n",
    "allowed_guesses_df = pd.read_table(\"wordle-allowed-guesses.txt\", delimiter=\" \", header=None)\n",
    "possible_words_df = pd.read_table(\"wordle-answers-alphabetical.txt\", delimiter=\" \", header=None)\n",
    "words_df_static = pd.concat([allowed_guesses_df, possible_words_df]).reset_index(drop = True)\n",
    "words_df_static = words_df_static.rename(columns={0:\"word\"})"
   ]
  },
  {
   "cell_type": "code",
   "execution_count": 2,
   "id": "ae0b2645",
   "metadata": {},
   "outputs": [],
   "source": [
    "#Function List for Wordle Solver\n",
    "\n",
    "#Function to narrow down word list if letter is in the correct place\n",
    "def letter_correct(letter, position, words_df):\n",
    "    words_df = words_df.loc[words_df[position]==letter,:]\n",
    "    return words_df\n",
    "\n",
    "#Function to narrow down word list if letter is not in the word\n",
    "def letter_missing(letter, words_df):\n",
    "    for position in [\"L1\", \"L2\", \"L3\", \"L4\", \"L5\"]:\n",
    "        words_df = words_df.loc[words_df[position]!=letter,:]\n",
    "    return words_df\n",
    "    \n",
    "#Function to narrow down word list if letter is in the wrong place\n",
    "def letter_misplaced(letter, position, words_df):\n",
    "    words_df = words_df.loc[words_df[position]!=letter,:]\n",
    "    space_list = [\"L1\", \"L2\", \"L3\", \"L4\", \"L5\"]\n",
    "    space_list.remove(position)\n",
    "    words_df = words_df.loc[(words_df[space_list[0]]==letter) | (words_df[space_list[1]]==letter) | (words_df[space_list[2]]==letter) | (words_df[space_list[3]]==letter),:]\n",
    "    return words_df"
   ]
  },
  {
   "cell_type": "code",
   "execution_count": 15,
   "id": "8f15860f",
   "metadata": {},
   "outputs": [],
   "source": [
    "#Function to 'play the game'\n",
    "def next_guess(words_df):\n",
    "    \n",
    "    scoredict = {}\n",
    "    for index, row in words_df.iterrows():\n",
    "        for position in letter_spacing:\n",
    "            if row[position] in scoredict:\n",
    "                scoredict[row[position]]+=1\n",
    "            else:\n",
    "                scoredict[row[position]] = 1\n",
    "    score_table = pd.Series(data=scoredict).to_frame().reset_index().rename(columns={'index':'letter',0:'totalcount'})\n",
    "    \n",
    "    #Score each word based on letter frequency to choose the best guess. We do this by merging each individual letter to the score\n",
    "    #table, then adding them into a final score to append to our word table. If a letter is a duplicate, we do not add that score\n",
    "    #since the information added is likely to be none or very little, and we would gain more for having better variety\n",
    "    score_list = []\n",
    "    for index, row in words_df.iterrows():\n",
    "        score = 0\n",
    "        letter1_score = [row[\"L1\"], score_table.loc[score_table[\"letter\"]==row[\"L1\"],\"totalcount\"].values[0]]\n",
    "        letter2_score = [row[\"L2\"], score_table.loc[score_table[\"letter\"]==row[\"L2\"],\"totalcount\"].values[0]]\n",
    "        letter3_score = [row[\"L3\"], score_table.loc[score_table[\"letter\"]==row[\"L3\"],\"totalcount\"].values[0]]\n",
    "        letter4_score = [row[\"L4\"], score_table.loc[score_table[\"letter\"]==row[\"L4\"],\"totalcount\"].values[0]]\n",
    "        letter5_score = [row[\"L5\"], score_table.loc[score_table[\"letter\"]==row[\"L5\"],\"totalcount\"].values[0]]\n",
    "        score = letter1_score[1]\n",
    "        if letter2_score[0] != letter1_score[0]:\n",
    "            score = score + letter2_score[1]\n",
    "        if (letter3_score[0] != letter1_score[0] and letter3_score[0] != letter2_score[0]):\n",
    "            score = score + letter3_score[1]\n",
    "        if (letter4_score[0] != letter1_score[0] and letter4_score[0] != letter2_score[0] and letter4_score[0] != letter3_score[0]):\n",
    "            score = score + letter4_score[1]\n",
    "        if (letter5_score[0] != letter1_score[0] and letter5_score[0] != letter2_score[0] and letter5_score[0] != letter3_score[0] and letter5_score[0] != letter4_score[0]):\n",
    "            score = score + letter5_score[1]\n",
    "        score_list.append(score)\n",
    "    \n",
    "    #Add Previous calcuations to word list\n",
    "    words_df['Frequency_Score']=score_list\n",
    "    \n",
    "    #Choose best guess and create a dataframe split by letter, similar to word list\n",
    "    maxid = words_df.Frequency_Score.idxmax()\n",
    "    bestguess = words_df.iloc[maxid,:].values[0]\n",
    "    \n",
    "    return bestguess"
   ]
  },
  {
   "cell_type": "code",
   "execution_count": 16,
   "id": "ede7160a",
   "metadata": {},
   "outputs": [],
   "source": [
    "#SETUP CODE ENDS HERE, CODE FOLLOWING IS TO RUN UPON USER INPUT ON WEBSITE"
   ]
  },
  {
   "cell_type": "code",
   "execution_count": 17,
   "id": "cdfb1816",
   "metadata": {},
   "outputs": [],
   "source": [
    "#Testing input, this will be user input when run on website\n",
    "words_df = words_df_static\n",
    "words_df[\"L1\"] = words_df[\"word\"].astype(str).str[0]\n",
    "words_df[\"L2\"] = words_df[\"word\"].astype(str).str[1]\n",
    "words_df[\"L3\"] = words_df[\"word\"].astype(str).str[2]\n",
    "words_df[\"L4\"] = words_df[\"word\"].astype(str).str[3]\n",
    "words_df[\"L5\"] = words_df[\"word\"].astype(str).str[4]\n",
    "\n",
    "input_dict = {0: [\"correct\", \"a\", \"L1\"],\n",
    "             1: [\"missing\", \"s\", \"L2\"],\n",
    "             2: [\"missing\", \"o\", \"L3\"],\n",
    "             3: [\"misplaced\", \"r\", \"L4\"],\n",
    "             4: [\"missing\", \"t\", \"L5\"]}\n",
    "\n",
    "#Loop through user input to reduce dataframe by already known information\n",
    "for item in input_dict.values():\n",
    "    if item[0] == \"correct\":\n",
    "        words_df = letter_correct(item[1], item[2], words_df)\n",
    "    elif item[0] == \"missing\":\n",
    "        words_df = letter_missing(item[1], words_df)\n",
    "    else:\n",
    "        words_df = letter_misplaced(item[1], item[2], words_df)\n",
    "        \n",
    "words_df = words_df.reset_index(drop=True)     \n",
    "\n",
    "bestguess = next_guess(words_df)"
   ]
  },
  {
   "cell_type": "code",
   "execution_count": 18,
   "id": "ad5f670d",
   "metadata": {},
   "outputs": [
    {
     "data": {
      "text/plain": [
       "'aired'"
      ]
     },
     "execution_count": 18,
     "metadata": {},
     "output_type": "execute_result"
    }
   ],
   "source": [
    "bestguess"
   ]
  },
  {
   "cell_type": "code",
   "execution_count": null,
   "id": "a323fed0",
   "metadata": {},
   "outputs": [],
   "source": []
  }
 ],
 "metadata": {
  "kernelspec": {
   "display_name": "Python 3",
   "language": "python",
   "name": "python3"
  },
  "language_info": {
   "codemirror_mode": {
    "name": "ipython",
    "version": 3
   },
   "file_extension": ".py",
   "mimetype": "text/x-python",
   "name": "python",
   "nbconvert_exporter": "python",
   "pygments_lexer": "ipython3",
   "version": "3.8.8"
  }
 },
 "nbformat": 4,
 "nbformat_minor": 5
}
