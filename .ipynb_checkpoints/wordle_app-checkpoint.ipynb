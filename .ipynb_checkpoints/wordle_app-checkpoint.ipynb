{
 "cells": [
  {
   "cell_type": "code",
   "execution_count": 1,
   "id": "d2b572df",
   "metadata": {},
   "outputs": [],
   "source": [
    "#Import Dependencies\n",
    "import pandas as pd"
   ]
  },
  {
   "cell_type": "code",
   "execution_count": 2,
   "id": "d9434f82",
   "metadata": {},
   "outputs": [],
   "source": [
    "#Function to narrow down word list if letter is in the correct place\n",
    "def letter_correct(letter, position):\n",
    "    pass"
   ]
  },
  {
   "cell_type": "code",
   "execution_count": 3,
   "id": "1a5c2675",
   "metadata": {},
   "outputs": [],
   "source": [
    "#Function to narrow down word list if letter is not in the word\n",
    "def letter_missing(letter, position):\n",
    "    pass"
   ]
  },
  {
   "cell_type": "code",
   "execution_count": 4,
   "id": "f4b089e9",
   "metadata": {},
   "outputs": [],
   "source": [
    "#Function to narrow down word list if letter is in the wrong place\n",
    "def letter_misplaced(letter, position):\n",
    "    pass"
   ]
  },
  {
   "cell_type": "code",
   "execution_count": 5,
   "id": "9e0a1c09",
   "metadata": {},
   "outputs": [],
   "source": [
    "#List for use later when checking letter matches\n",
    "letter_spacing = [\"L1\", \"L2\", \"L3\", \"L4\", \"L5\"]"
   ]
  },
  {
   "cell_type": "code",
   "execution_count": 6,
   "id": "2ea4034d",
   "metadata": {},
   "outputs": [
    {
     "data": {
      "text/html": [
       "<div>\n",
       "<style scoped>\n",
       "    .dataframe tbody tr th:only-of-type {\n",
       "        vertical-align: middle;\n",
       "    }\n",
       "\n",
       "    .dataframe tbody tr th {\n",
       "        vertical-align: top;\n",
       "    }\n",
       "\n",
       "    .dataframe thead th {\n",
       "        text-align: right;\n",
       "    }\n",
       "</style>\n",
       "<table border=\"1\" class=\"dataframe\">\n",
       "  <thead>\n",
       "    <tr style=\"text-align: right;\">\n",
       "      <th></th>\n",
       "      <th>word</th>\n",
       "    </tr>\n",
       "  </thead>\n",
       "  <tbody>\n",
       "    <tr>\n",
       "      <th>0</th>\n",
       "      <td>aahed</td>\n",
       "    </tr>\n",
       "    <tr>\n",
       "      <th>1</th>\n",
       "      <td>aalii</td>\n",
       "    </tr>\n",
       "    <tr>\n",
       "      <th>2</th>\n",
       "      <td>aargh</td>\n",
       "    </tr>\n",
       "    <tr>\n",
       "      <th>3</th>\n",
       "      <td>aarti</td>\n",
       "    </tr>\n",
       "    <tr>\n",
       "      <th>4</th>\n",
       "      <td>abaca</td>\n",
       "    </tr>\n",
       "    <tr>\n",
       "      <th>...</th>\n",
       "      <td>...</td>\n",
       "    </tr>\n",
       "    <tr>\n",
       "      <th>12967</th>\n",
       "      <td>young</td>\n",
       "    </tr>\n",
       "    <tr>\n",
       "      <th>12968</th>\n",
       "      <td>youth</td>\n",
       "    </tr>\n",
       "    <tr>\n",
       "      <th>12969</th>\n",
       "      <td>zebra</td>\n",
       "    </tr>\n",
       "    <tr>\n",
       "      <th>12970</th>\n",
       "      <td>zesty</td>\n",
       "    </tr>\n",
       "    <tr>\n",
       "      <th>12971</th>\n",
       "      <td>zonal</td>\n",
       "    </tr>\n",
       "  </tbody>\n",
       "</table>\n",
       "<p>12972 rows × 1 columns</p>\n",
       "</div>"
      ],
      "text/plain": [
       "        word\n",
       "0      aahed\n",
       "1      aalii\n",
       "2      aargh\n",
       "3      aarti\n",
       "4      abaca\n",
       "...      ...\n",
       "12967  young\n",
       "12968  youth\n",
       "12969  zebra\n",
       "12970  zesty\n",
       "12971  zonal\n",
       "\n",
       "[12972 rows x 1 columns]"
      ]
     },
     "execution_count": 6,
     "metadata": {},
     "output_type": "execute_result"
    }
   ],
   "source": [
    "#Bring in word lists, join and reset index for single list, set name for word column\n",
    "allowed_guesses_df = pd.read_table(\"wordle-allowed-guesses.txt\", delimiter=\" \", header=None)\n",
    "possible_words_df = pd.read_table(\"wordle-answers-alphabetical.txt\", delimiter=\" \", header=None)\n",
    "words_df = pd.concat([allowed_guesses_df, possible_words_df]).reset_index(drop = True)\n",
    "words_df = words_df.rename(columns={0:\"word\"})\n",
    "words_df"
   ]
  },
  {
   "cell_type": "code",
   "execution_count": 9,
   "id": "ab24c060",
   "metadata": {},
   "outputs": [
    {
     "data": {
      "text/plain": [
       "str"
      ]
     },
     "execution_count": 9,
     "metadata": {},
     "output_type": "execute_result"
    }
   ],
   "source": [
    "type(words_df.word[0][0])"
   ]
  },
  {
   "cell_type": "code",
   "execution_count": 10,
   "id": "8728b581",
   "metadata": {},
   "outputs": [
    {
     "data": {
      "text/html": [
       "<div>\n",
       "<style scoped>\n",
       "    .dataframe tbody tr th:only-of-type {\n",
       "        vertical-align: middle;\n",
       "    }\n",
       "\n",
       "    .dataframe tbody tr th {\n",
       "        vertical-align: top;\n",
       "    }\n",
       "\n",
       "    .dataframe thead th {\n",
       "        text-align: right;\n",
       "    }\n",
       "</style>\n",
       "<table border=\"1\" class=\"dataframe\">\n",
       "  <thead>\n",
       "    <tr style=\"text-align: right;\">\n",
       "      <th></th>\n",
       "      <th>word</th>\n",
       "      <th>L1</th>\n",
       "      <th>L2</th>\n",
       "      <th>L3</th>\n",
       "      <th>L4</th>\n",
       "      <th>L5</th>\n",
       "    </tr>\n",
       "  </thead>\n",
       "  <tbody>\n",
       "    <tr>\n",
       "      <th>0</th>\n",
       "      <td>crock</td>\n",
       "      <td>c</td>\n",
       "      <td>r</td>\n",
       "      <td>o</td>\n",
       "      <td>c</td>\n",
       "      <td>k</td>\n",
       "    </tr>\n",
       "  </tbody>\n",
       "</table>\n",
       "</div>"
      ],
      "text/plain": [
       "    word L1 L2 L3 L4 L5\n",
       "0  crock  c  r  o  c  k"
      ]
     },
     "execution_count": 10,
     "metadata": {},
     "output_type": "execute_result"
    }
   ],
   "source": [
    "#Choose winning word for Wordle Game (NOTE: Change to be random after testing is done)\n",
    "#Testing word has a duplicate letter to use multiple scenarios\n",
    "#We also split that word by letter for later use\n",
    "hidden_word = possible_words_df.iloc[485,0]\n",
    "hidden_word_df = pd.DataFrame({\"word\":hidden_word}, index=[0])\n",
    "hidden_word_df[\"L1\"] = hidden_word_df[\"word\"][0][0]\n",
    "hidden_word_df[\"L2\"] = hidden_word_df[\"word\"][0][1]\n",
    "hidden_word_df[\"L3\"] = hidden_word_df[\"word\"][0][2]\n",
    "hidden_word_df[\"L4\"] = hidden_word_df[\"word\"][0][3]\n",
    "hidden_word_df[\"L5\"] = hidden_word_df[\"word\"][0][4]\n",
    "hidden_word_df"
   ]
  },
  {
   "cell_type": "code",
   "execution_count": 11,
   "id": "eebcf8b7",
   "metadata": {},
   "outputs": [
    {
     "data": {
      "text/html": [
       "<div>\n",
       "<style scoped>\n",
       "    .dataframe tbody tr th:only-of-type {\n",
       "        vertical-align: middle;\n",
       "    }\n",
       "\n",
       "    .dataframe tbody tr th {\n",
       "        vertical-align: top;\n",
       "    }\n",
       "\n",
       "    .dataframe thead th {\n",
       "        text-align: right;\n",
       "    }\n",
       "</style>\n",
       "<table border=\"1\" class=\"dataframe\">\n",
       "  <thead>\n",
       "    <tr style=\"text-align: right;\">\n",
       "      <th></th>\n",
       "      <th>word</th>\n",
       "      <th>L1</th>\n",
       "      <th>L2</th>\n",
       "      <th>L3</th>\n",
       "      <th>L4</th>\n",
       "      <th>L5</th>\n",
       "    </tr>\n",
       "  </thead>\n",
       "  <tbody>\n",
       "    <tr>\n",
       "      <th>0</th>\n",
       "      <td>aahed</td>\n",
       "      <td>a</td>\n",
       "      <td>a</td>\n",
       "      <td>h</td>\n",
       "      <td>e</td>\n",
       "      <td>d</td>\n",
       "    </tr>\n",
       "    <tr>\n",
       "      <th>1</th>\n",
       "      <td>aalii</td>\n",
       "      <td>a</td>\n",
       "      <td>a</td>\n",
       "      <td>h</td>\n",
       "      <td>e</td>\n",
       "      <td>d</td>\n",
       "    </tr>\n",
       "    <tr>\n",
       "      <th>2</th>\n",
       "      <td>aargh</td>\n",
       "      <td>a</td>\n",
       "      <td>a</td>\n",
       "      <td>h</td>\n",
       "      <td>e</td>\n",
       "      <td>d</td>\n",
       "    </tr>\n",
       "    <tr>\n",
       "      <th>3</th>\n",
       "      <td>aarti</td>\n",
       "      <td>a</td>\n",
       "      <td>a</td>\n",
       "      <td>h</td>\n",
       "      <td>e</td>\n",
       "      <td>d</td>\n",
       "    </tr>\n",
       "    <tr>\n",
       "      <th>4</th>\n",
       "      <td>abaca</td>\n",
       "      <td>a</td>\n",
       "      <td>a</td>\n",
       "      <td>h</td>\n",
       "      <td>e</td>\n",
       "      <td>d</td>\n",
       "    </tr>\n",
       "    <tr>\n",
       "      <th>...</th>\n",
       "      <td>...</td>\n",
       "      <td>...</td>\n",
       "      <td>...</td>\n",
       "      <td>...</td>\n",
       "      <td>...</td>\n",
       "      <td>...</td>\n",
       "    </tr>\n",
       "    <tr>\n",
       "      <th>12967</th>\n",
       "      <td>young</td>\n",
       "      <td>a</td>\n",
       "      <td>a</td>\n",
       "      <td>h</td>\n",
       "      <td>e</td>\n",
       "      <td>d</td>\n",
       "    </tr>\n",
       "    <tr>\n",
       "      <th>12968</th>\n",
       "      <td>youth</td>\n",
       "      <td>a</td>\n",
       "      <td>a</td>\n",
       "      <td>h</td>\n",
       "      <td>e</td>\n",
       "      <td>d</td>\n",
       "    </tr>\n",
       "    <tr>\n",
       "      <th>12969</th>\n",
       "      <td>zebra</td>\n",
       "      <td>a</td>\n",
       "      <td>a</td>\n",
       "      <td>h</td>\n",
       "      <td>e</td>\n",
       "      <td>d</td>\n",
       "    </tr>\n",
       "    <tr>\n",
       "      <th>12970</th>\n",
       "      <td>zesty</td>\n",
       "      <td>a</td>\n",
       "      <td>a</td>\n",
       "      <td>h</td>\n",
       "      <td>e</td>\n",
       "      <td>d</td>\n",
       "    </tr>\n",
       "    <tr>\n",
       "      <th>12971</th>\n",
       "      <td>zonal</td>\n",
       "      <td>a</td>\n",
       "      <td>a</td>\n",
       "      <td>h</td>\n",
       "      <td>e</td>\n",
       "      <td>d</td>\n",
       "    </tr>\n",
       "  </tbody>\n",
       "</table>\n",
       "<p>12972 rows × 6 columns</p>\n",
       "</div>"
      ],
      "text/plain": [
       "        word L1 L2 L3 L4 L5\n",
       "0      aahed  a  a  h  e  d\n",
       "1      aalii  a  a  h  e  d\n",
       "2      aargh  a  a  h  e  d\n",
       "3      aarti  a  a  h  e  d\n",
       "4      abaca  a  a  h  e  d\n",
       "...      ... .. .. .. .. ..\n",
       "12967  young  a  a  h  e  d\n",
       "12968  youth  a  a  h  e  d\n",
       "12969  zebra  a  a  h  e  d\n",
       "12970  zesty  a  a  h  e  d\n",
       "12971  zonal  a  a  h  e  d\n",
       "\n",
       "[12972 rows x 6 columns]"
      ]
     },
     "execution_count": 11,
     "metadata": {},
     "output_type": "execute_result"
    }
   ],
   "source": [
    "#Add columns to split each word into a seperate letter by column\n",
    "words_df[\"L1\"] = words_df[\"word\"][0][0]\n",
    "words_df[\"L2\"] = words_df[\"word\"][0][1]\n",
    "words_df[\"L3\"] = words_df[\"word\"][0][2]\n",
    "words_df[\"L4\"] = words_df[\"word\"][0][3]\n",
    "words_df[\"L5\"] = words_df[\"word\"][0][4]\n",
    "words_df"
   ]
  },
  {
   "cell_type": "code",
   "execution_count": null,
   "id": "649c796d",
   "metadata": {
    "scrolled": false
   },
   "outputs": [],
   "source": [
    "#Group by over entire word list, getting a frequency score for each letter by column\n",
    "letter1_group = words_df[['word','L1']].groupby(['L1']).count().reset_index().rename(columns={\"word\":\"count(1)\", \"L1\":\"letter\"})\n",
    "letter2_group = words_df[['word','L2']].groupby(['L2']).count().reset_index().rename(columns={\"word\":\"count(2)\", \"L2\":\"letter\"})\n",
    "letter3_group = words_df[['word','L3']].groupby(['L3']).count().reset_index().rename(columns={\"word\":\"count(3)\", \"L3\":\"letter\"})\n",
    "letter4_group = words_df[['word','L4']].groupby(['L4']).count().reset_index().rename(columns={\"word\":\"count(4)\", \"L4\":\"letter\"})\n",
    "letter5_group = words_df[['word','L5']].groupby(['L5']).count().reset_index().rename(columns={\"word\":\"count(5)\", \"L5\":\"letter\"})\n",
    "\n",
    "#Join all 5 letter groups into a single list\n",
    "letters1_2 = pd.concat([letter1_group, letter2_group['count(2)']],axis=1)\n",
    "letters1_2_3 = pd.concat([letters1_2, letter3_group['count(3)']],axis=1)\n",
    "letters1_2_3_4 = pd.concat([letters1_2_3, letter4_group['count(4)']],axis=1)\n",
    "lettersgroup = pd.concat([letters1_2_3_4, letter5_group['count(5)']],axis=1)\n",
    "\n",
    "#Add a sum of all columns\n",
    "lettersgroup['totalcount'] = lettersgroup['count(1)']+lettersgroup['count(2)']+lettersgroup['count(3)']+lettersgroup['count(4)']+lettersgroup['count(5)']"
   ]
  },
  {
   "cell_type": "code",
   "execution_count": null,
   "id": "176e7e38",
   "metadata": {},
   "outputs": [],
   "source": [
    "#Create score table off previous for simplicity in use\n",
    "score_table = lettersgroup[['letter', 'totalcount']]\n",
    "score_table"
   ]
  },
  {
   "cell_type": "code",
   "execution_count": null,
   "id": "f6fb7697",
   "metadata": {},
   "outputs": [],
   "source": [
    "#Score each word based on letter frequency to choose the best guess. We do this by merging each individual letter to the score\n",
    "#table, then adding them into a final score to append to our word table. If a letter is a duplicate, we do not add that score\n",
    "#since the information added is likely to be none or very little, and we would gain more for having better variety\n",
    "score_list = []\n",
    "for index, row in words_df.iterrows():\n",
    "    score = 0\n",
    "    letter1 = pd.DataFrame({'letter':row['L1'] }, index=[0])\n",
    "    letter1_score = letter1.merge(score_table,how='inner',on='letter')\n",
    "    letter2 = pd.DataFrame({'letter':row['L2'] }, index=[0])\n",
    "    letter2_score = letter2.merge(score_table,how='inner',on='letter')\n",
    "    letter3 = pd.DataFrame({'letter':row['L3'] }, index=[0])\n",
    "    letter3_score = letter3.merge(score_table,how='inner',on='letter')\n",
    "    letter4 = pd.DataFrame({'letter':row['L4'] }, index=[0])\n",
    "    letter4_score = letter4.merge(score_table,how='inner',on='letter')\n",
    "    letter5 = pd.DataFrame({'letter':row['L5'] }, index=[0])\n",
    "    letter5_score = letter5.merge(score_table,how='inner',on='letter')\n",
    "    score = letter1_score['totalcount'].values[0]\n",
    "    if letter2_score['letter'].values[0] != letter1_score['letter'].values[0]:\n",
    "        score = score + letter2_score['totalcount'].values[0]\n",
    "    if (letter3_score['letter'].values[0] != letter1_score['letter'].values[0] and letter3_score['letter'].values[0] != letter2_score['letter'].values[0]):\n",
    "        score = score + letter3_score['totalcount'].values[0]\n",
    "    if (letter4_score['letter'].values[0] != letter1_score['letter'].values[0] and letter4_score['letter'].values[0] != letter2_score['letter'].values[0] and letter4_score['letter'].values[0] != letter3_score['letter'].values[0]):\n",
    "        score = score + letter4_score['totalcount'].values[0]\n",
    "    if (letter5_score['letter'].values[0] != letter1_score['letter'].values[0] and letter5_score['letter'].values[0] != letter2_score['letter'].values[0] and letter5_score['letter'].values[0] != letter3_score['letter'].values[0] and letter5_score['letter'].values[0] != letter4_score['letter'].values[0]):\n",
    "        score = score + letter5_score['totalcount'].values[0]\n",
    "    score_list.append(score)"
   ]
  },
  {
   "cell_type": "code",
   "execution_count": null,
   "id": "81085319",
   "metadata": {},
   "outputs": [],
   "source": [
    "#Add Previous calcuations to word list\n",
    "words_df['Frequency_Score']=score_list\n",
    "words_df"
   ]
  },
  {
   "cell_type": "code",
   "execution_count": null,
   "id": "0c7b474a",
   "metadata": {},
   "outputs": [],
   "source": [
    "#Choose best guess and create a dataframe split by letter, similar to word list\n",
    "maxid = words_df.Frequency_Score.idxmax()\n",
    "bestguess = words_df.iloc[maxid,0]\n",
    "bestguess_df = pd.DataFrame({\"word\":bestguess}, index=[0])\n",
    "bestguess_df[\"L1\"] = bestguess_df[\"word\"].astype(str).str[0]\n",
    "bestguess_df[\"L2\"] = bestguess_df[\"word\"].astype(str).str[1]\n",
    "bestguess_df[\"L3\"] = bestguess_df[\"word\"].astype(str).str[2]\n",
    "bestguess_df[\"L4\"] = bestguess_df[\"word\"].astype(str).str[3]\n",
    "bestguess_df[\"L5\"] = bestguess_df[\"word\"].astype(str).str[4]\n",
    "bestguess_df"
   ]
  },
  {
   "cell_type": "code",
   "execution_count": null,
   "id": "c564a692",
   "metadata": {},
   "outputs": [],
   "source": [
    "hidden_word_df"
   ]
  },
  {
   "cell_type": "code",
   "execution_count": null,
   "id": "9b91a728",
   "metadata": {},
   "outputs": [],
   "source": [
    "letter_spacing"
   ]
  },
  {
   "cell_type": "code",
   "execution_count": null,
   "id": "2d1c9e07",
   "metadata": {},
   "outputs": [],
   "source": [
    "# for letter in letter_spacing:\n",
    "#     if bestguess_df[letter].values[0] == hidden_word_df[letter].values[0]:\n",
    "#         letter_correct(bestguess_df[letter].values[0], letter)\n",
    "#     else if \n",
    "    \n",
    "#     else:\n",
    "#         letter_missing(bestguess_df[letter].values[0], letter)\n",
    "    \n",
    "    "
   ]
  },
  {
   "cell_type": "code",
   "execution_count": null,
   "id": "ba3fed3b",
   "metadata": {},
   "outputs": [],
   "source": []
  }
 ],
 "metadata": {
  "kernelspec": {
   "display_name": "Python 3",
   "language": "python",
   "name": "python3"
  },
  "language_info": {
   "codemirror_mode": {
    "name": "ipython",
    "version": 3
   },
   "file_extension": ".py",
   "mimetype": "text/x-python",
   "name": "python",
   "nbconvert_exporter": "python",
   "pygments_lexer": "ipython3",
   "version": "3.8.8"
  }
 },
 "nbformat": 4,
 "nbformat_minor": 5
}
